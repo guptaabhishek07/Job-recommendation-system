{
 "cells": [
  {
   "cell_type": "code",
   "execution_count": 1,
   "id": "61b5cc40",
   "metadata": {},
   "outputs": [
    {
     "name": "stdout",
     "output_type": "stream",
     "text": [
      "Requirement already satisfied: nltk in c:\\users\\blubirch\\anaconda3\\lib\\site-packages (3.8.1)\n",
      "Requirement already satisfied: click in c:\\users\\blubirch\\anaconda3\\lib\\site-packages (from nltk) (8.0.4)\n",
      "Requirement already satisfied: joblib in c:\\users\\blubirch\\anaconda3\\lib\\site-packages (from nltk) (1.2.0)\n",
      "Requirement already satisfied: regex>=2021.8.3 in c:\\users\\blubirch\\anaconda3\\lib\\site-packages (from nltk) (2022.7.9)\n",
      "Requirement already satisfied: tqdm in c:\\users\\blubirch\\anaconda3\\lib\\site-packages (from nltk) (4.65.0)\n",
      "Requirement already satisfied: colorama in c:\\users\\blubirch\\anaconda3\\lib\\site-packages (from click->nltk) (0.4.6)\n"
     ]
    }
   ],
   "source": [
    "!pip install nltk"
   ]
  },
  {
   "cell_type": "code",
   "execution_count": 2,
   "id": "2d42a0cd",
   "metadata": {},
   "outputs": [],
   "source": [
    "import numpy as np\n",
    "import pandas as pd"
   ]
  },
  {
   "cell_type": "code",
   "execution_count": 3,
   "id": "14b1997f",
   "metadata": {},
   "outputs": [],
   "source": [
    "df = pd.read_csv(\"Combined_Jobs_Final.csv\")"
   ]
  },
  {
   "cell_type": "code",
   "execution_count": 4,
   "id": "5493d7dd",
   "metadata": {},
   "outputs": [
    {
     "data": {
      "text/html": [
       "<div>\n",
       "<style scoped>\n",
       "    .dataframe tbody tr th:only-of-type {\n",
       "        vertical-align: middle;\n",
       "    }\n",
       "\n",
       "    .dataframe tbody tr th {\n",
       "        vertical-align: top;\n",
       "    }\n",
       "\n",
       "    .dataframe thead th {\n",
       "        text-align: right;\n",
       "    }\n",
       "</style>\n",
       "<table border=\"1\" class=\"dataframe\">\n",
       "  <thead>\n",
       "    <tr style=\"text-align: right;\">\n",
       "      <th></th>\n",
       "      <th>Job.ID</th>\n",
       "      <th>Provider</th>\n",
       "      <th>Status</th>\n",
       "      <th>Slug</th>\n",
       "      <th>Title</th>\n",
       "      <th>Position</th>\n",
       "      <th>Company</th>\n",
       "      <th>City</th>\n",
       "      <th>State.Name</th>\n",
       "      <th>State.Code</th>\n",
       "      <th>...</th>\n",
       "      <th>Industry</th>\n",
       "      <th>Job.Description</th>\n",
       "      <th>Requirements</th>\n",
       "      <th>Salary</th>\n",
       "      <th>Listing.Start</th>\n",
       "      <th>Listing.End</th>\n",
       "      <th>Employment.Type</th>\n",
       "      <th>Education.Required</th>\n",
       "      <th>Created.At</th>\n",
       "      <th>Updated.At</th>\n",
       "    </tr>\n",
       "  </thead>\n",
       "  <tbody>\n",
       "    <tr>\n",
       "      <th>0</th>\n",
       "      <td>111</td>\n",
       "      <td>1</td>\n",
       "      <td>open</td>\n",
       "      <td>palo-alto-ca-tacolicious-server</td>\n",
       "      <td>Server @ Tacolicious</td>\n",
       "      <td>Server</td>\n",
       "      <td>Tacolicious</td>\n",
       "      <td>Palo Alto</td>\n",
       "      <td>California</td>\n",
       "      <td>CA</td>\n",
       "      <td>...</td>\n",
       "      <td>Food and Beverages</td>\n",
       "      <td>Tacolicious' first Palo Alto store just opened...</td>\n",
       "      <td>NaN</td>\n",
       "      <td>8.00</td>\n",
       "      <td>NaN</td>\n",
       "      <td>NaN</td>\n",
       "      <td>Part-Time</td>\n",
       "      <td>NaN</td>\n",
       "      <td>2013-03-12 02:08:28 UTC</td>\n",
       "      <td>2014-08-16 15:35:36 UTC</td>\n",
       "    </tr>\n",
       "    <tr>\n",
       "      <th>1</th>\n",
       "      <td>113</td>\n",
       "      <td>1</td>\n",
       "      <td>open</td>\n",
       "      <td>san-francisco-ca-claude-lane-kitchen-staff-chef</td>\n",
       "      <td>Kitchen Staff/Chef @ Claude Lane</td>\n",
       "      <td>Kitchen Staff/Chef</td>\n",
       "      <td>Claude Lane</td>\n",
       "      <td>San Francisco</td>\n",
       "      <td>California</td>\n",
       "      <td>CA</td>\n",
       "      <td>...</td>\n",
       "      <td>Food and Beverages</td>\n",
       "      <td>\\r\\n\\r\\nNew French Brasserie in S.F. Financia...</td>\n",
       "      <td>NaN</td>\n",
       "      <td>0.00</td>\n",
       "      <td>NaN</td>\n",
       "      <td>NaN</td>\n",
       "      <td>Part-Time</td>\n",
       "      <td>NaN</td>\n",
       "      <td>2013-04-12 08:36:36 UTC</td>\n",
       "      <td>2014-08-16 15:35:36 UTC</td>\n",
       "    </tr>\n",
       "    <tr>\n",
       "      <th>2</th>\n",
       "      <td>117</td>\n",
       "      <td>1</td>\n",
       "      <td>open</td>\n",
       "      <td>san-francisco-ca-machka-restaurants-corp-barte...</td>\n",
       "      <td>Bartender @ Machka Restaurants Corp.</td>\n",
       "      <td>Bartender</td>\n",
       "      <td>Machka Restaurants Corp.</td>\n",
       "      <td>San Francisco</td>\n",
       "      <td>California</td>\n",
       "      <td>CA</td>\n",
       "      <td>...</td>\n",
       "      <td>Food and Beverages</td>\n",
       "      <td>We are a popular Mediterranean wine bar and re...</td>\n",
       "      <td>NaN</td>\n",
       "      <td>11.00</td>\n",
       "      <td>NaN</td>\n",
       "      <td>NaN</td>\n",
       "      <td>Part-Time</td>\n",
       "      <td>NaN</td>\n",
       "      <td>2013-07-16 09:34:10 UTC</td>\n",
       "      <td>2014-08-16 15:35:37 UTC</td>\n",
       "    </tr>\n",
       "    <tr>\n",
       "      <th>3</th>\n",
       "      <td>121</td>\n",
       "      <td>1</td>\n",
       "      <td>open</td>\n",
       "      <td>brisbane-ca-teriyaki-house-server</td>\n",
       "      <td>Server @ Teriyaki House</td>\n",
       "      <td>Server</td>\n",
       "      <td>Teriyaki House</td>\n",
       "      <td>Brisbane</td>\n",
       "      <td>California</td>\n",
       "      <td>CA</td>\n",
       "      <td>...</td>\n",
       "      <td>Food and Beverages</td>\n",
       "      <td>● Serve food/drinks to customers in a profess...</td>\n",
       "      <td>NaN</td>\n",
       "      <td>10.55</td>\n",
       "      <td>NaN</td>\n",
       "      <td>NaN</td>\n",
       "      <td>Part-Time</td>\n",
       "      <td>NaN</td>\n",
       "      <td>2013-09-04 15:40:30 UTC</td>\n",
       "      <td>2014-08-16 15:35:38 UTC</td>\n",
       "    </tr>\n",
       "    <tr>\n",
       "      <th>4</th>\n",
       "      <td>127</td>\n",
       "      <td>1</td>\n",
       "      <td>open</td>\n",
       "      <td>los-angeles-ca-rosa-mexicano-sunset-kitchen-st...</td>\n",
       "      <td>Kitchen Staff/Chef @ Rosa Mexicano - Sunset</td>\n",
       "      <td>Kitchen Staff/Chef</td>\n",
       "      <td>Rosa Mexicano - Sunset</td>\n",
       "      <td>Los Angeles</td>\n",
       "      <td>California</td>\n",
       "      <td>CA</td>\n",
       "      <td>...</td>\n",
       "      <td>Food and Beverages</td>\n",
       "      <td>Located at the heart of Hollywood, we are one ...</td>\n",
       "      <td>NaN</td>\n",
       "      <td>10.55</td>\n",
       "      <td>NaN</td>\n",
       "      <td>NaN</td>\n",
       "      <td>Part-Time</td>\n",
       "      <td>NaN</td>\n",
       "      <td>2013-07-17 15:26:18 UTC</td>\n",
       "      <td>2014-08-16 15:35:40 UTC</td>\n",
       "    </tr>\n",
       "  </tbody>\n",
       "</table>\n",
       "<p>5 rows × 23 columns</p>\n",
       "</div>"
      ],
      "text/plain": [
       "   Job.ID  Provider Status                                               Slug  \\\n",
       "0     111         1   open                    palo-alto-ca-tacolicious-server   \n",
       "1     113         1   open    san-francisco-ca-claude-lane-kitchen-staff-chef   \n",
       "2     117         1   open  san-francisco-ca-machka-restaurants-corp-barte...   \n",
       "3     121         1   open                  brisbane-ca-teriyaki-house-server   \n",
       "4     127         1   open  los-angeles-ca-rosa-mexicano-sunset-kitchen-st...   \n",
       "\n",
       "                                         Title            Position  \\\n",
       "0                         Server @ Tacolicious              Server   \n",
       "1             Kitchen Staff/Chef @ Claude Lane  Kitchen Staff/Chef   \n",
       "2         Bartender @ Machka Restaurants Corp.           Bartender   \n",
       "3                      Server @ Teriyaki House              Server   \n",
       "4  Kitchen Staff/Chef @ Rosa Mexicano - Sunset  Kitchen Staff/Chef   \n",
       "\n",
       "                    Company           City  State.Name State.Code  ...  \\\n",
       "0               Tacolicious      Palo Alto  California         CA  ...   \n",
       "1               Claude Lane  San Francisco  California         CA  ...   \n",
       "2  Machka Restaurants Corp.  San Francisco  California         CA  ...   \n",
       "3            Teriyaki House       Brisbane  California         CA  ...   \n",
       "4    Rosa Mexicano - Sunset    Los Angeles  California         CA  ...   \n",
       "\n",
       "             Industry                                    Job.Description  \\\n",
       "0  Food and Beverages  Tacolicious' first Palo Alto store just opened...   \n",
       "1  Food and Beverages   \\r\\n\\r\\nNew French Brasserie in S.F. Financia...   \n",
       "2  Food and Beverages  We are a popular Mediterranean wine bar and re...   \n",
       "3  Food and Beverages   ● Serve food/drinks to customers in a profess...   \n",
       "4  Food and Beverages  Located at the heart of Hollywood, we are one ...   \n",
       "\n",
       "   Requirements Salary Listing.Start  Listing.End  Employment.Type  \\\n",
       "0           NaN   8.00           NaN          NaN        Part-Time   \n",
       "1           NaN   0.00           NaN          NaN        Part-Time   \n",
       "2           NaN  11.00           NaN          NaN        Part-Time   \n",
       "3           NaN  10.55           NaN          NaN        Part-Time   \n",
       "4           NaN  10.55           NaN          NaN        Part-Time   \n",
       "\n",
       "  Education.Required               Created.At               Updated.At  \n",
       "0                NaN  2013-03-12 02:08:28 UTC  2014-08-16 15:35:36 UTC  \n",
       "1                NaN  2013-04-12 08:36:36 UTC  2014-08-16 15:35:36 UTC  \n",
       "2                NaN  2013-07-16 09:34:10 UTC  2014-08-16 15:35:37 UTC  \n",
       "3                NaN  2013-09-04 15:40:30 UTC  2014-08-16 15:35:38 UTC  \n",
       "4                NaN  2013-07-17 15:26:18 UTC  2014-08-16 15:35:40 UTC  \n",
       "\n",
       "[5 rows x 23 columns]"
      ]
     },
     "execution_count": 4,
     "metadata": {},
     "output_type": "execute_result"
    }
   ],
   "source": [
    "df.head()"
   ]
  },
  {
   "cell_type": "code",
   "execution_count": 5,
   "id": "e557840a",
   "metadata": {},
   "outputs": [
    {
     "data": {
      "text/plain": [
       "(84090, 23)"
      ]
     },
     "execution_count": 5,
     "metadata": {},
     "output_type": "execute_result"
    }
   ],
   "source": [
    "df.shape"
   ]
  },
  {
   "cell_type": "code",
   "execution_count": 6,
   "id": "d3976e65",
   "metadata": {},
   "outputs": [
    {
     "data": {
      "text/html": [
       "<div>\n",
       "<style scoped>\n",
       "    .dataframe tbody tr th:only-of-type {\n",
       "        vertical-align: middle;\n",
       "    }\n",
       "\n",
       "    .dataframe tbody tr th {\n",
       "        vertical-align: top;\n",
       "    }\n",
       "\n",
       "    .dataframe thead th {\n",
       "        text-align: right;\n",
       "    }\n",
       "</style>\n",
       "<table border=\"1\" class=\"dataframe\">\n",
       "  <thead>\n",
       "    <tr style=\"text-align: right;\">\n",
       "      <th></th>\n",
       "      <th>Title</th>\n",
       "      <th>Job.Description</th>\n",
       "    </tr>\n",
       "  </thead>\n",
       "  <tbody>\n",
       "    <tr>\n",
       "      <th>0</th>\n",
       "      <td>Server @ Tacolicious</td>\n",
       "      <td>Tacolicious' first Palo Alto store just opened...</td>\n",
       "    </tr>\n",
       "    <tr>\n",
       "      <th>1</th>\n",
       "      <td>Kitchen Staff/Chef @ Claude Lane</td>\n",
       "      <td>\\r\\n\\r\\nNew French Brasserie in S.F. Financia...</td>\n",
       "    </tr>\n",
       "    <tr>\n",
       "      <th>2</th>\n",
       "      <td>Bartender @ Machka Restaurants Corp.</td>\n",
       "      <td>We are a popular Mediterranean wine bar and re...</td>\n",
       "    </tr>\n",
       "    <tr>\n",
       "      <th>3</th>\n",
       "      <td>Server @ Teriyaki House</td>\n",
       "      <td>● Serve food/drinks to customers in a profess...</td>\n",
       "    </tr>\n",
       "    <tr>\n",
       "      <th>4</th>\n",
       "      <td>Kitchen Staff/Chef @ Rosa Mexicano - Sunset</td>\n",
       "      <td>Located at the heart of Hollywood, we are one ...</td>\n",
       "    </tr>\n",
       "    <tr>\n",
       "      <th>...</th>\n",
       "      <td>...</td>\n",
       "      <td>...</td>\n",
       "    </tr>\n",
       "    <tr>\n",
       "      <th>84085</th>\n",
       "      <td>Book Keeper @ National Japanese American Histo...</td>\n",
       "      <td>NJAHS stands for National Japanese American Hi...</td>\n",
       "    </tr>\n",
       "    <tr>\n",
       "      <th>84086</th>\n",
       "      <td>Kitchen Staff/Chef @ Emporio Rulli</td>\n",
       "      <td>Weekend Brunch Line Cook \\r\\n● Other shifts ma...</td>\n",
       "    </tr>\n",
       "    <tr>\n",
       "      <th>84087</th>\n",
       "      <td>Driver @ Onigilly</td>\n",
       "      <td>ONIGILLY (Japanese rice ball wraps) seeks outg...</td>\n",
       "    </tr>\n",
       "    <tr>\n",
       "      <th>84088</th>\n",
       "      <td>Line Cook @ Machka Restaurants Corp.</td>\n",
       "      <td>We are a popular Mediterranean restaurant in F...</td>\n",
       "    </tr>\n",
       "    <tr>\n",
       "      <th>84089</th>\n",
       "      <td>Cashier @ Kazoo Restaurant</td>\n",
       "      <td>We are looking for a cashier! \\r\\n\\r\\n ● Take...</td>\n",
       "    </tr>\n",
       "  </tbody>\n",
       "</table>\n",
       "<p>84090 rows × 2 columns</p>\n",
       "</div>"
      ],
      "text/plain": [
       "                                                   Title  \\\n",
       "0                                   Server @ Tacolicious   \n",
       "1                       Kitchen Staff/Chef @ Claude Lane   \n",
       "2                   Bartender @ Machka Restaurants Corp.   \n",
       "3                                Server @ Teriyaki House   \n",
       "4            Kitchen Staff/Chef @ Rosa Mexicano - Sunset   \n",
       "...                                                  ...   \n",
       "84085  Book Keeper @ National Japanese American Histo...   \n",
       "84086                 Kitchen Staff/Chef @ Emporio Rulli   \n",
       "84087                                  Driver @ Onigilly   \n",
       "84088               Line Cook @ Machka Restaurants Corp.   \n",
       "84089                         Cashier @ Kazoo Restaurant   \n",
       "\n",
       "                                         Job.Description  \n",
       "0      Tacolicious' first Palo Alto store just opened...  \n",
       "1       \\r\\n\\r\\nNew French Brasserie in S.F. Financia...  \n",
       "2      We are a popular Mediterranean wine bar and re...  \n",
       "3       ● Serve food/drinks to customers in a profess...  \n",
       "4      Located at the heart of Hollywood, we are one ...  \n",
       "...                                                  ...  \n",
       "84085  NJAHS stands for National Japanese American Hi...  \n",
       "84086  Weekend Brunch Line Cook \\r\\n● Other shifts ma...  \n",
       "84087  ONIGILLY (Japanese rice ball wraps) seeks outg...  \n",
       "84088  We are a popular Mediterranean restaurant in F...  \n",
       "84089   We are looking for a cashier! \\r\\n\\r\\n ● Take...  \n",
       "\n",
       "[84090 rows x 2 columns]"
      ]
     },
     "execution_count": 6,
     "metadata": {},
     "output_type": "execute_result"
    }
   ],
   "source": [
    "df[[\"Title\",\"Job.Description\"]]"
   ]
  },
  {
   "cell_type": "code",
   "execution_count": 7,
   "id": "5197a210",
   "metadata": {},
   "outputs": [
    {
     "data": {
      "text/plain": [
       "0                                 Server @ Tacolicious\n",
       "1                     Kitchen Staff/Chef @ Claude Lane\n",
       "2                 Bartender @ Machka Restaurants Corp.\n",
       "3                              Server @ Teriyaki House\n",
       "4          Kitchen Staff/Chef @ Rosa Mexicano - Sunset\n",
       "5                Receptionist @ Mind of Beauty Day Spa\n",
       "6                        Server @ Roy's Woodland Hills\n",
       "7                                Driver @ KoJa Kitchen\n",
       "8        Assistant Store Manager @ King's Food Markets\n",
       "9    Store Associate - Retail Sales (Customer Servi...\n",
       "Name: Title, dtype: object"
      ]
     },
     "execution_count": 7,
     "metadata": {},
     "output_type": "execute_result"
    }
   ],
   "source": [
    "df[\"Title\"][:10]"
   ]
  },
  {
   "cell_type": "code",
   "execution_count": 8,
   "id": "9c86e4a6",
   "metadata": {},
   "outputs": [
    {
     "data": {
      "text/plain": [
       "array(['Server @ Tacolicious', 'Kitchen Staff/Chef @ Claude Lane',\n",
       "       'Bartender @ Machka Restaurants Corp.', ...,\n",
       "       'Kitchen Staff/Chef @ Emporio Rulli',\n",
       "       'Line Cook @ Machka Restaurants Corp.',\n",
       "       'Cashier @ Kazoo Restaurant'], dtype=object)"
      ]
     },
     "execution_count": 8,
     "metadata": {},
     "output_type": "execute_result"
    }
   ],
   "source": [
    "df[\"Title\"].unique()"
   ]
  },
  {
   "cell_type": "code",
   "execution_count": 9,
   "id": "dc4ab04d",
   "metadata": {},
   "outputs": [
    {
     "data": {
      "text/plain": [
       "41861"
      ]
     },
     "execution_count": 9,
     "metadata": {},
     "output_type": "execute_result"
    }
   ],
   "source": [
    "df[\"Title\"].nunique()"
   ]
  },
  {
   "cell_type": "code",
   "execution_count": 10,
   "id": "85e3b851",
   "metadata": {},
   "outputs": [
    {
     "data": {
      "text/plain": [
       "0    Tacolicious' first Palo Alto store just opened...\n",
       "1     \\r\\n\\r\\nNew French Brasserie in S.F. Financia...\n",
       "2    We are a popular Mediterranean wine bar and re...\n",
       "3     ● Serve food/drinks to customers in a profess...\n",
       "4    Located at the heart of Hollywood, we are one ...\n",
       "5    We are a group of professional massage therapi...\n",
       "6     ● Serve food/drinks to customers in a profess...\n",
       "7    KoJa Kitchen:\\r\\nPART-TIME LOCAL HELP NEEDED W...\n",
       "8    \\r\\nAssistant Store Manager\\r\\n\\r\\nNow Hiring ...\n",
       "9    Hiring Event Details\\r\\nStore Associate\\r\\n\\r\\...\n",
       "Name: Job.Description, dtype: object"
      ]
     },
     "execution_count": 10,
     "metadata": {},
     "output_type": "execute_result"
    }
   ],
   "source": [
    "df[\"Job.Description\"][:10]"
   ]
  },
  {
   "cell_type": "code",
   "execution_count": 11,
   "id": "d7f0ca7c",
   "metadata": {},
   "outputs": [
    {
     "data": {
      "text/plain": [
       "59269"
      ]
     },
     "execution_count": 11,
     "metadata": {},
     "output_type": "execute_result"
    }
   ],
   "source": [
    "df[\"Job.Description\"].nunique()"
   ]
  },
  {
   "cell_type": "code",
   "execution_count": 12,
   "id": "1dc7de2e",
   "metadata": {},
   "outputs": [
    {
     "data": {
      "text/plain": [
       "(1000, 23)"
      ]
     },
     "execution_count": 12,
     "metadata": {},
     "output_type": "execute_result"
    }
   ],
   "source": [
    "df = df.sample(n=1000, random_state=42)\n",
    "df.shape"
   ]
  },
  {
   "cell_type": "code",
   "execution_count": 13,
   "id": "7fddf98c",
   "metadata": {},
   "outputs": [
    {
     "name": "stderr",
     "output_type": "stream",
     "text": [
      "[nltk_data] Downloading package punkt to\n",
      "[nltk_data]     C:\\Users\\Blubirch\\AppData\\Roaming\\nltk_data...\n",
      "[nltk_data]   Package punkt is already up-to-date!\n",
      "[nltk_data] Downloading package stopwords to\n",
      "[nltk_data]     C:\\Users\\Blubirch\\AppData\\Roaming\\nltk_data...\n",
      "[nltk_data]   Package stopwords is already up-to-date!\n"
     ]
    }
   ],
   "source": [
    "import nltk\n",
    "nltk.download('punkt')\n",
    "nltk.download('stopwords')\n",
    "from nltk.stem.porter import PorterStemmer\n",
    "from nltk.corpus import stopwords\n",
    "import re"
   ]
  },
  {
   "cell_type": "code",
   "execution_count": 14,
   "id": "bdb04676",
   "metadata": {},
   "outputs": [],
   "source": [
    "ps = PorterStemmer()"
   ]
  },
  {
   "cell_type": "code",
   "execution_count": 15,
   "id": "20f2d578",
   "metadata": {},
   "outputs": [],
   "source": [
    "def cleaning(txt):\n",
    "    cleaned_txt = re.sub(r'[^a-zA-z0-9\\s]', '', txt)\n",
    "    tokens = nltk.word_tokenize(cleaned_txt.lower())\n",
    "    stemming = [ps.stem(word) for word in tokens if word not in stopwords.words(\"english\")]\n",
    "    \n",
    "    return \" \".join(stemming)"
   ]
  },
  {
   "cell_type": "code",
   "execution_count": 16,
   "id": "af7d5c14",
   "metadata": {},
   "outputs": [
    {
     "data": {
      "text/plain": [
       "'word digit 0987 love move drive'"
      ]
     },
     "execution_count": 16,
     "metadata": {},
     "output_type": "execute_result"
    }
   ],
   "source": [
    "cleaning(\"This is word and digit 0987 and loving moving driving %*$@&& \\r\\n\\r\\r\\r\")"
   ]
  },
  {
   "cell_type": "code",
   "execution_count": 17,
   "id": "e6d63b94",
   "metadata": {},
   "outputs": [
    {
     "data": {
      "text/plain": [
       "64119                       site director knowledg univers\n",
       "35827                          administr assist officeteam\n",
       "72100                     account manag chi payment system\n",
       "46355    outsid wholesal sale rep parttim river front c...\n",
       "34166    custom servic rep help peopl hear loss captioncal\n",
       "Name: Title, dtype: object"
      ]
     },
     "execution_count": 17,
     "metadata": {},
     "output_type": "execute_result"
    }
   ],
   "source": [
    "df[\"Title\"] = df[\"Title\"].astype(str).apply(lambda x:cleaning(x))\n",
    "df[\"Title\"][0:5]"
   ]
  },
  {
   "cell_type": "code",
   "execution_count": 18,
   "id": "a05f928d",
   "metadata": {},
   "outputs": [],
   "source": [
    "df[\"Job.Description\"] = df[\"Job.Description\"].astype(str).apply(lambda x: cleaning(x))"
   ]
  },
  {
   "cell_type": "code",
   "execution_count": 19,
   "id": "a161df52",
   "metadata": {},
   "outputs": [
    {
     "data": {
      "text/plain": [
       "64119    job summari knowledg univers ku site director ...\n",
       "35827    ref id 03110118480classif secretaryadmin asstc...\n",
       "72100    yoursquor energet motiv hardwork look prosper ...\n",
       "46355    outsid wholesal sale rep job respons sale repr...\n",
       "34166    captioncal commun assist imagin life without t...\n",
       "Name: Job.Description, dtype: object"
      ]
     },
     "execution_count": 19,
     "metadata": {},
     "output_type": "execute_result"
    }
   ],
   "source": [
    "df[\"Job.Description\"][0:5]"
   ]
  },
  {
   "cell_type": "code",
   "execution_count": 23,
   "id": "2c930201",
   "metadata": {},
   "outputs": [],
   "source": [
    "df[\"new_col\"] = df[\"Title\"] + \" \" + df[\"Job.Description\"]"
   ]
  },
  {
   "cell_type": "code",
   "execution_count": 24,
   "id": "c19dda06",
   "metadata": {},
   "outputs": [
    {
     "data": {
      "text/html": [
       "<div>\n",
       "<style scoped>\n",
       "    .dataframe tbody tr th:only-of-type {\n",
       "        vertical-align: middle;\n",
       "    }\n",
       "\n",
       "    .dataframe tbody tr th {\n",
       "        vertical-align: top;\n",
       "    }\n",
       "\n",
       "    .dataframe thead th {\n",
       "        text-align: right;\n",
       "    }\n",
       "</style>\n",
       "<table border=\"1\" class=\"dataframe\">\n",
       "  <thead>\n",
       "    <tr style=\"text-align: right;\">\n",
       "      <th></th>\n",
       "      <th>Job.ID</th>\n",
       "      <th>Provider</th>\n",
       "      <th>Status</th>\n",
       "      <th>Slug</th>\n",
       "      <th>Title</th>\n",
       "      <th>Position</th>\n",
       "      <th>Company</th>\n",
       "      <th>City</th>\n",
       "      <th>State.Name</th>\n",
       "      <th>State.Code</th>\n",
       "      <th>...</th>\n",
       "      <th>Job.Description</th>\n",
       "      <th>Requirements</th>\n",
       "      <th>Salary</th>\n",
       "      <th>Listing.Start</th>\n",
       "      <th>Listing.End</th>\n",
       "      <th>Employment.Type</th>\n",
       "      <th>Education.Required</th>\n",
       "      <th>Created.At</th>\n",
       "      <th>Updated.At</th>\n",
       "      <th>new_col</th>\n",
       "    </tr>\n",
       "  </thead>\n",
       "  <tbody>\n",
       "    <tr>\n",
       "      <th>64119</th>\n",
       "      <td>294845</td>\n",
       "      <td>2</td>\n",
       "      <td>open</td>\n",
       "      <td>lake-forest-il-knowledge-universe-site-director</td>\n",
       "      <td>site director knowledg univers</td>\n",
       "      <td>Site Director</td>\n",
       "      <td>Knowledge Universe</td>\n",
       "      <td>Lake Forest</td>\n",
       "      <td>Illinois</td>\n",
       "      <td>IL</td>\n",
       "      <td>...</td>\n",
       "      <td>job summari knowledg univers ku site director ...</td>\n",
       "      <td>NaN</td>\n",
       "      <td>NaN</td>\n",
       "      <td>30-03-2015</td>\n",
       "      <td>29-04-2015</td>\n",
       "      <td>Part-Time</td>\n",
       "      <td>Not Specified</td>\n",
       "      <td>2015-03-31 10:13:55 UTC</td>\n",
       "      <td>2015-03-31 10:13:55 UTC</td>\n",
       "      <td>site director knowledg univers job summari kno...</td>\n",
       "    </tr>\n",
       "    <tr>\n",
       "      <th>35827</th>\n",
       "      <td>265365</td>\n",
       "      <td>2</td>\n",
       "      <td>open</td>\n",
       "      <td>reno-nv-officeteam-administrative-assistant-26...</td>\n",
       "      <td>administr assist officeteam</td>\n",
       "      <td>Administrative Assistant</td>\n",
       "      <td>OfficeTeam</td>\n",
       "      <td>Reno</td>\n",
       "      <td>Nevada</td>\n",
       "      <td>NV</td>\n",
       "      <td>...</td>\n",
       "      <td>ref id 03110118480classif secretaryadmin asstc...</td>\n",
       "      <td>NaN</td>\n",
       "      <td>NaN</td>\n",
       "      <td>09-03-2015</td>\n",
       "      <td>08-04-2015</td>\n",
       "      <td>Seasonal/Temp</td>\n",
       "      <td>Not Specified</td>\n",
       "      <td>2015-03-10 10:08:36 UTC</td>\n",
       "      <td>2015-03-10 10:08:36 UTC</td>\n",
       "      <td>administr assist officeteam ref id 03110118480...</td>\n",
       "    </tr>\n",
       "    <tr>\n",
       "      <th>72100</th>\n",
       "      <td>305868</td>\n",
       "      <td>2</td>\n",
       "      <td>open</td>\n",
       "      <td>chi-payment-systems-account-manager-305868</td>\n",
       "      <td>account manag chi payment system</td>\n",
       "      <td>Account Manager</td>\n",
       "      <td>CHI Payment Systems</td>\n",
       "      <td>NaN</td>\n",
       "      <td>NaN</td>\n",
       "      <td>NaN</td>\n",
       "      <td>...</td>\n",
       "      <td>yoursquor energet motiv hardwork look prosper ...</td>\n",
       "      <td>NaN</td>\n",
       "      <td>NaN</td>\n",
       "      <td>06-04-2015</td>\n",
       "      <td>05-05-2015</td>\n",
       "      <td>Full-Time/Part-Time</td>\n",
       "      <td>High School Diploma</td>\n",
       "      <td>2015-04-07 10:23:20 UTC</td>\n",
       "      <td>2015-04-07 10:23:20 UTC</td>\n",
       "      <td>account manag chi payment system yoursquor ene...</td>\n",
       "    </tr>\n",
       "    <tr>\n",
       "      <th>46355</th>\n",
       "      <td>275898</td>\n",
       "      <td>2</td>\n",
       "      <td>open</td>\n",
       "      <td>aurora-il-river-front-chrysler-jeep-dodge-outs...</td>\n",
       "      <td>outsid wholesal sale rep parttim river front c...</td>\n",
       "      <td>Outside Wholesale Sales Rep (PART-TIME)</td>\n",
       "      <td>River Front Chrysler Jeep Dodge</td>\n",
       "      <td>Aurora</td>\n",
       "      <td>Illinois</td>\n",
       "      <td>IL</td>\n",
       "      <td>...</td>\n",
       "      <td>outsid wholesal sale rep job respons sale repr...</td>\n",
       "      <td>NaN</td>\n",
       "      <td>NaN</td>\n",
       "      <td>16-03-2015</td>\n",
       "      <td>15-04-2015</td>\n",
       "      <td>Part-Time</td>\n",
       "      <td>Not Specified</td>\n",
       "      <td>2015-03-17 10:19:53 UTC</td>\n",
       "      <td>2015-03-17 10:19:53 UTC</td>\n",
       "      <td>outsid wholesal sale rep parttim river front c...</td>\n",
       "    </tr>\n",
       "    <tr>\n",
       "      <th>34166</th>\n",
       "      <td>263702</td>\n",
       "      <td>2</td>\n",
       "      <td>open</td>\n",
       "      <td>salt-lake-city-ut-captioncall-customer-service...</td>\n",
       "      <td>custom servic rep help peopl hear loss captioncal</td>\n",
       "      <td>Customer Service Rep- Help People with Hearing...</td>\n",
       "      <td>CaptionCall</td>\n",
       "      <td>Salt Lake City</td>\n",
       "      <td>Utah</td>\n",
       "      <td>UT</td>\n",
       "      <td>...</td>\n",
       "      <td>captioncal commun assist imagin life without t...</td>\n",
       "      <td>NaN</td>\n",
       "      <td>NaN</td>\n",
       "      <td>06-03-2015</td>\n",
       "      <td>05-04-2015</td>\n",
       "      <td>Full-Time/Part-Time</td>\n",
       "      <td>Not Specified</td>\n",
       "      <td>2015-03-07 10:18:08 UTC</td>\n",
       "      <td>2015-03-07 10:18:08 UTC</td>\n",
       "      <td>custom servic rep help peopl hear loss caption...</td>\n",
       "    </tr>\n",
       "  </tbody>\n",
       "</table>\n",
       "<p>5 rows × 24 columns</p>\n",
       "</div>"
      ],
      "text/plain": [
       "       Job.ID  Provider Status  \\\n",
       "64119  294845         2   open   \n",
       "35827  265365         2   open   \n",
       "72100  305868         2   open   \n",
       "46355  275898         2   open   \n",
       "34166  263702         2   open   \n",
       "\n",
       "                                                    Slug  \\\n",
       "64119    lake-forest-il-knowledge-universe-site-director   \n",
       "35827  reno-nv-officeteam-administrative-assistant-26...   \n",
       "72100         chi-payment-systems-account-manager-305868   \n",
       "46355  aurora-il-river-front-chrysler-jeep-dodge-outs...   \n",
       "34166  salt-lake-city-ut-captioncall-customer-service...   \n",
       "\n",
       "                                                   Title  \\\n",
       "64119                     site director knowledg univers   \n",
       "35827                        administr assist officeteam   \n",
       "72100                   account manag chi payment system   \n",
       "46355  outsid wholesal sale rep parttim river front c...   \n",
       "34166  custom servic rep help peopl hear loss captioncal   \n",
       "\n",
       "                                                Position  \\\n",
       "64119                                      Site Director   \n",
       "35827                           Administrative Assistant   \n",
       "72100                                    Account Manager   \n",
       "46355            Outside Wholesale Sales Rep (PART-TIME)   \n",
       "34166  Customer Service Rep- Help People with Hearing...   \n",
       "\n",
       "                               Company            City State.Name State.Code  \\\n",
       "64119               Knowledge Universe     Lake Forest   Illinois         IL   \n",
       "35827                       OfficeTeam            Reno     Nevada         NV   \n",
       "72100              CHI Payment Systems             NaN        NaN        NaN   \n",
       "46355  River Front Chrysler Jeep Dodge          Aurora   Illinois         IL   \n",
       "34166                      CaptionCall  Salt Lake City       Utah         UT   \n",
       "\n",
       "       ...                                    Job.Description  Requirements  \\\n",
       "64119  ...  job summari knowledg univers ku site director ...           NaN   \n",
       "35827  ...  ref id 03110118480classif secretaryadmin asstc...           NaN   \n",
       "72100  ...  yoursquor energet motiv hardwork look prosper ...           NaN   \n",
       "46355  ...  outsid wholesal sale rep job respons sale repr...           NaN   \n",
       "34166  ...  captioncal commun assist imagin life without t...           NaN   \n",
       "\n",
       "       Salary Listing.Start Listing.End      Employment.Type  \\\n",
       "64119     NaN    30-03-2015  29-04-2015            Part-Time   \n",
       "35827     NaN    09-03-2015  08-04-2015        Seasonal/Temp   \n",
       "72100     NaN    06-04-2015  05-05-2015  Full-Time/Part-Time   \n",
       "46355     NaN    16-03-2015  15-04-2015            Part-Time   \n",
       "34166     NaN    06-03-2015  05-04-2015  Full-Time/Part-Time   \n",
       "\n",
       "        Education.Required               Created.At               Updated.At  \\\n",
       "64119        Not Specified  2015-03-31 10:13:55 UTC  2015-03-31 10:13:55 UTC   \n",
       "35827        Not Specified  2015-03-10 10:08:36 UTC  2015-03-10 10:08:36 UTC   \n",
       "72100  High School Diploma  2015-04-07 10:23:20 UTC  2015-04-07 10:23:20 UTC   \n",
       "46355        Not Specified  2015-03-17 10:19:53 UTC  2015-03-17 10:19:53 UTC   \n",
       "34166        Not Specified  2015-03-07 10:18:08 UTC  2015-03-07 10:18:08 UTC   \n",
       "\n",
       "                                                 new_col  \n",
       "64119  site director knowledg univers job summari kno...  \n",
       "35827  administr assist officeteam ref id 03110118480...  \n",
       "72100  account manag chi payment system yoursquor ene...  \n",
       "46355  outsid wholesal sale rep parttim river front c...  \n",
       "34166  custom servic rep help peopl hear loss caption...  \n",
       "\n",
       "[5 rows x 24 columns]"
      ]
     },
     "execution_count": 24,
     "metadata": {},
     "output_type": "execute_result"
    }
   ],
   "source": [
    "df.head()"
   ]
  },
  {
   "cell_type": "code",
   "execution_count": 25,
   "id": "ecc54dfa",
   "metadata": {},
   "outputs": [],
   "source": [
    "from sklearn.feature_extraction.text import TfidfVectorizer\n",
    "from sklearn.metrics.pairwise import cosine_similarity"
   ]
  },
  {
   "cell_type": "code",
   "execution_count": 27,
   "id": "a1478c62",
   "metadata": {},
   "outputs": [],
   "source": [
    "tfif = TfidfVectorizer()\n",
    "matrix = tfif.fit_transform(df[\"new_col\"])\n",
    "similarity = cosine_similarity(matrix)"
   ]
  },
  {
   "cell_type": "code",
   "execution_count": 28,
   "id": "65a56084",
   "metadata": {},
   "outputs": [
    {
     "data": {
      "text/plain": [
       "array([[1.        , 0.04042416, 0.02576343, ..., 0.05812964, 0.02553415,\n",
       "        0.08439494],\n",
       "       [0.04042416, 1.        , 0.02654662, ..., 0.03218989, 0.00516898,\n",
       "        0.02355336],\n",
       "       [0.02576343, 0.02654662, 1.        , ..., 0.05830838, 0.0315759 ,\n",
       "        0.039024  ],\n",
       "       ...,\n",
       "       [0.05812964, 0.03218989, 0.05830838, ..., 1.        , 0.06389263,\n",
       "        0.11540342],\n",
       "       [0.02553415, 0.00516898, 0.0315759 , ..., 0.06389263, 1.        ,\n",
       "        0.38481043],\n",
       "       [0.08439494, 0.02355336, 0.039024  , ..., 0.11540342, 0.38481043,\n",
       "        1.        ]])"
      ]
     },
     "execution_count": 28,
     "metadata": {},
     "output_type": "execute_result"
    }
   ],
   "source": [
    "similarity"
   ]
  },
  {
   "cell_type": "code",
   "execution_count": 41,
   "id": "d91c501d",
   "metadata": {},
   "outputs": [],
   "source": [
    "def recommendation(title):\n",
    "    idx = df[df['Title'] == title].index[0]\n",
    "    idx = df.index.get_loc(idx)\n",
    "    distances = sorted(list(enumerate(similarity[idx])),key=lambda x:x[1], reverse=True)[1:20]\n",
    "    \n",
    "    jobs = []\n",
    "    for i in distances:\n",
    "        jobs.append(df.iloc[i[0]].Title)\n",
    "    return jobs"
   ]
  },
  {
   "cell_type": "code",
   "execution_count": 42,
   "id": "d1ecfc85",
   "metadata": {},
   "outputs": [
    {
     "data": {
      "text/plain": [
       "['site director knowledg univers educ llc',\n",
       " 'teacher knowledg univers',\n",
       " 'assist teacher knowledg univers',\n",
       " 'assist teacher knowledg univers',\n",
       " 'cook knowledg univers',\n",
       " 'immedi open assist teacher la petit academi',\n",
       " 'summer school age assist children courtyard',\n",
       " 'hvac instructor vatterott educ center',\n",
       " 'temporari coordin site oper macyscom maci',\n",
       " 'medic offic assist instructor concord career colleg inc',\n",
       " 'fellowship program coordin connecticut children medic center',\n",
       " 'pharmaci adjunct instructor brown macki colleg',\n",
       " 'design bed sell specialist full timepart time bloomingdal mall short hill nj maci',\n",
       " 'handbag sell specialist part time bloomingdal chevi chase md bloomingdal',\n",
       " 'men design sell specialist full timepart time bloomingdal newport beach ca bloomingdal',\n",
       " 'youth camp residenti assist activ coordin new york ny el educ servic',\n",
       " 'women shoe sale profession part time bloomingdal 59th street nyc maci',\n",
       " 'secur offic 100000 job coalit securita usa',\n",
       " 'secur offic regular securita usa']"
      ]
     },
     "execution_count": 42,
     "metadata": {},
     "output_type": "execute_result"
    }
   ],
   "source": [
    " recommendation('site director knowledg univers')"
   ]
  },
  {
   "cell_type": "code",
   "execution_count": 43,
   "id": "a1d6161d",
   "metadata": {},
   "outputs": [],
   "source": [
    "import pickle\n",
    "pickle.dump(df,open('df.pkl', 'wb'))\n",
    "pickle.dump(similarity,open('similarity.pkl','wb'))"
   ]
  },
  {
   "cell_type": "code",
   "execution_count": null,
   "id": "8388ee94",
   "metadata": {},
   "outputs": [],
   "source": []
  },
  {
   "cell_type": "code",
   "execution_count": null,
   "id": "728f35bf",
   "metadata": {},
   "outputs": [],
   "source": []
  }
 ],
 "metadata": {
  "kernelspec": {
   "display_name": "Python 3 (ipykernel)",
   "language": "python",
   "name": "python3"
  },
  "language_info": {
   "codemirror_mode": {
    "name": "ipython",
    "version": 3
   },
   "file_extension": ".py",
   "mimetype": "text/x-python",
   "name": "python",
   "nbconvert_exporter": "python",
   "pygments_lexer": "ipython3",
   "version": "3.11.5"
  }
 },
 "nbformat": 4,
 "nbformat_minor": 5
}
